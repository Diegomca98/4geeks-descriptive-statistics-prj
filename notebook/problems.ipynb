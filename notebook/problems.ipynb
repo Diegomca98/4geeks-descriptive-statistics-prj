{
 "cells": [
  {
   "cell_type": "markdown",
   "id": "ac622319",
   "metadata": {},
   "source": [
    "# Descriptive statistics problems"
   ]
  },
  {
   "cell_type": "markdown",
   "id": "aa8993e4",
   "metadata": {},
   "source": [
    "### Exercise 1"
   ]
  },
  {
   "cell_type": "markdown",
   "id": "5e0ab0d5",
   "metadata": {},
   "source": [
    "We will use Numpy to obtain information to describe statistically.\n",
    "\n",
    "- Generate an array of 100 elements following a normal distribution.\n",
    "- Generate an array of 100 elements following a chi-square distribution with 3 degrees of freedom.\n",
    "- Calculate the main metrics and statistical measures that best describe the two vectors."
   ]
  },
  {
   "cell_type": "code",
   "execution_count": 8,
   "id": "70ddb8af-7e9b-4d18-b970-8e7b9b1f1842",
   "metadata": {},
   "outputs": [],
   "source": [
    "import numpy as np\n",
    "import scipy.stats"
   ]
  },
  {
   "cell_type": "code",
   "execution_count": 16,
   "id": "34720ab6",
   "metadata": {},
   "outputs": [
    {
     "name": "stdout",
     "output_type": "stream",
     "text": [
      "Normal Distribution Array\n",
      "\t mean 0.07941666293687392\n",
      "\t median 0.09436841421237988\n",
      "\t std 0.9670394771137057\n",
      "\t variance 0.9351653502963495\n",
      "\t skewness 0.013640630909283968\n",
      "\t kurtosis 0.12453154540548628\n",
      "=======================================================\n",
      "Chi-Square Distribution Array\n",
      "\t mean 2.9648978613642214\n",
      "\t median 2.6515334332721716\n",
      "\t std 2.0809757718702513\n",
      "\t variance 4.330460163110987\n",
      "\t skewness 1.0661509865648333\n",
      "\t kurtosis 0.9089489770409291\n"
     ]
    }
   ],
   "source": [
    "# TODO\n",
    "np.random.seed(10)\n",
    "\n",
    "normal_data = {\n",
    "    'mean': 0,\n",
    "    'std': 1,\n",
    "    'size': 100,\n",
    "}\n",
    "chisquare_data = {\n",
    "    'degrees': 3,\n",
    "    'size': 100,\n",
    "}\n",
    "\n",
    "normal_array = np.random.normal(normal_data['mean'], normal_data['std'], normal_data['size'])\n",
    "chisquare_array = np.random.chisquare(chisquare_data['degrees'], chisquare_data['size'])\n",
    "\n",
    "normal_calc = {\n",
    "    'mean': np.mean(normal_array),\n",
    "    'median': np.median(normal_array),\n",
    "    'std': np.std(normal_array),\n",
    "    'variance': np.var(normal_array),\n",
    "    'skewness': scipy.stats.skew(normal_array),\n",
    "    'kurtosis': scipy.stats.kurtosis(normal_array)\n",
    "}\n",
    "chisquare_calc = {\n",
    "    'mean': np.mean(chisquare_array),\n",
    "    'median': np.median(chisquare_array),\n",
    "    'std': np.std(chisquare_array),\n",
    "    'variance': np.var(chisquare_array),\n",
    "    'skewness': scipy.stats.skew(chisquare_array),\n",
    "    'kurtosis': scipy.stats.kurtosis(chisquare_array)\n",
    "}\n",
    "\n",
    "print('Normal Distribution Array')\n",
    "for k, v in normal_calc.items():\n",
    "    print('\\t',k, v)\n",
    "\n",
    "print('=======================================================')\n",
    "\n",
    "print('Chi-Square Distribution Array')\n",
    "for k, v in chisquare_calc.items():\n",
    "    print('\\t',k, v)"
   ]
  },
  {
   "cell_type": "markdown",
   "id": "46c70c3d",
   "metadata": {},
   "source": [
    "### Exercise 2\n",
    "\n",
    "Write a Python program to calculate the standard deviation of the following data:\n",
    "\n",
    "```py\n",
    "data = [4, 2, 5, 8, 6]\n",
    "```"
   ]
  },
  {
   "cell_type": "code",
   "execution_count": 14,
   "id": "d590308e",
   "metadata": {},
   "outputs": [
    {
     "data": {
      "text/plain": [
       "2.0"
      ]
     },
     "execution_count": 14,
     "metadata": {},
     "output_type": "execute_result"
    }
   ],
   "source": [
    "# TODO\n",
    "data = [4, 2, 5, 8, 6]\n",
    "np.std(data)"
   ]
  },
  {
   "cell_type": "code",
   "execution_count": null,
   "id": "8af9774f-0fc8-45d5-a74f-c468dd3ef579",
   "metadata": {},
   "outputs": [],
   "source": []
  }
 ],
 "metadata": {
  "interpreter": {
   "hash": "9248718ffe6ce6938b217e69dbcc175ea21f4c6b28a317e96c05334edae734bb"
  },
  "kernelspec": {
   "display_name": "Python 3 (ipykernel)",
   "language": "python",
   "name": "python3"
  },
  "language_info": {
   "codemirror_mode": {
    "name": "ipython",
    "version": 3
   },
   "file_extension": ".py",
   "mimetype": "text/x-python",
   "name": "python",
   "nbconvert_exporter": "python",
   "pygments_lexer": "ipython3",
   "version": "3.10.13"
  }
 },
 "nbformat": 4,
 "nbformat_minor": 5
}
