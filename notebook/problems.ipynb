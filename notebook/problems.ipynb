{
 "cells": [
  {
   "cell_type": "markdown",
   "id": "ac622319",
   "metadata": {},
   "source": [
    "# Descriptive statistics problems"
   ]
  },
  {
   "cell_type": "markdown",
   "id": "aa8993e4",
   "metadata": {},
   "source": [
    "### Exercise 1"
   ]
  },
  {
   "cell_type": "markdown",
   "id": "5e0ab0d5",
   "metadata": {},
   "source": [
    "We will use Numpy to obtain information to describe statistically.\n",
    "\n",
    "- Generate an array of 100 elements following a normal distribution.\n",
    "- Generate an array of 100 elements following a chi-square distribution with 3 degrees of freedom.\n",
    "- Calculate the main metrics and statistical measures that best describe the two vectors."
   ]
  },
  {
   "cell_type": "code",
   "execution_count": 3,
   "id": "70ddb8af-7e9b-4d18-b970-8e7b9b1f1842",
   "metadata": {},
   "outputs": [],
   "source": [
    "import numpy as np\n",
    "import scipy.stats\n",
    "import math"
   ]
  },
  {
   "cell_type": "code",
   "execution_count": 4,
   "id": "34720ab6",
   "metadata": {},
   "outputs": [
    {
     "name": "stdout",
     "output_type": "stream",
     "text": [
      "Normal Distribution Array\n",
      "\t Mean -> 0.07941666293687392\n",
      "\t Median -> 0.09436841421237988\n",
      "\t Mode -> ModeResult(mode=-2.131712108481604, count=1)\n",
      "\t Range -> 4.599363164916207\n",
      "\t Standard Deviation -> 0.9670394771137057\n",
      "\t Variance -> 0.9351653502963495\n",
      "\t Skewness -> 0.013640630909283968\n",
      "\t Kurtosis -> 0.12453154540548628\n",
      "=======================================================\n",
      "Chi-Square Distribution Array\n",
      "\t Mean -> 2.9648978613642214\n",
      "\t Median -> 2.6515334332721716\n",
      "\t Mode -> ModeResult(mode=0.16240473921013523, count=1)\n",
      "\t Range -> 9.624384686385994\n",
      "\t Standard Deviation -> 2.0809757718702513\n",
      "\t Variance -> 4.330460163110987\n",
      "\t Skewness -> 1.0661509865648333\n",
      "\t Kurtosis -> 0.9089489770409291\n"
     ]
    }
   ],
   "source": [
    "# TODO\n",
    "np.random.seed(10)\n",
    "\n",
    "normal_data = {\n",
    "    'mean': 0,\n",
    "    'std': 1,\n",
    "    'size': 100,\n",
    "}\n",
    "chisquare_data = {\n",
    "    'degrees': 3,\n",
    "    'size': 100,\n",
    "}\n",
    "\n",
    "normal_array = np.random.normal(size = 100)\n",
    "chisquare_array = np.random.chisquare(chisquare_data['degrees'], chisquare_data['size'])\n",
    "\n",
    "normal_calc = {\n",
    "    'mean': np.mean(normal_array),\n",
    "    'median': np.median(normal_array),\n",
    "    'mode': scipy.stats.mode(normal_array),\n",
    "    'range': np.max(normal_array) - np.min(normal_array),\n",
    "    'Standard Deviation': np.std(normal_array),\n",
    "    'variance': np.var(normal_array),\n",
    "    'skewness': scipy.stats.skew(normal_array),\n",
    "    'kurtosis': scipy.stats.kurtosis(normal_array)\n",
    "}\n",
    "chisquare_calc = {\n",
    "    'mean': np.mean(chisquare_array),\n",
    "    'median': np.median(chisquare_array),\n",
    "    'mode': scipy.stats.mode(chisquare_array),\n",
    "    'range': np.max(chisquare_array) - np.min(chisquare_array),\n",
    "    'Standard Deviation': np.std(chisquare_array),\n",
    "    'variance': np.var(chisquare_array),\n",
    "    'skewness': scipy.stats.skew(chisquare_array),\n",
    "    'kurtosis': scipy.stats.kurtosis(chisquare_array)\n",
    "}\n",
    "\n",
    "print('Normal Distribution Array')\n",
    "for k, v in normal_calc.items():\n",
    "    print('\\t', k.title(), '->', v)\n",
    "\n",
    "print('=======================================================')\n",
    "\n",
    "print('Chi-Square Distribution Array')\n",
    "for k, v in chisquare_calc.items():\n",
    "    print('\\t', k.title(), '->', v)"
   ]
  },
  {
   "cell_type": "markdown",
   "id": "46c70c3d",
   "metadata": {},
   "source": [
    "### Exercise 2\n",
    "\n",
    "Write a Python program to calculate the standard deviation of the following data:\n",
    "\n",
    "```py\n",
    "data = [4, 2, 5, 8, 6]\n",
    "```"
   ]
  },
  {
   "cell_type": "code",
   "execution_count": 5,
   "id": "8339bb38-090f-4f49-83ec-22226ef2b1f2",
   "metadata": {},
   "outputs": [],
   "source": [
    "def std_dev(data):\n",
    "    mean = average(data)\n",
    "    variance = np.sum([(x - mean)**2 for x in data]) / len(data)\n",
    "\n",
    "    return math.sqrt(variance)\n",
    "\n",
    "def average(data):\n",
    "    return np.sum(data)/len(data)"
   ]
  },
  {
   "cell_type": "code",
   "execution_count": 6,
   "id": "d590308e",
   "metadata": {},
   "outputs": [
    {
     "name": "stdout",
     "output_type": "stream",
     "text": [
      "Sample Data: [4, 2, 5, 8, 6]\n",
      "\t-> Custom Function: 2.0\n",
      "\t-> Native Numpy Function: 2.0\n"
     ]
    }
   ],
   "source": [
    "# TODO\n",
    "data = [4, 2, 5, 8, 6]\n",
    "print('Sample Data:', data)\n",
    "print('\\t-> Custom Function:', std_dev(data))\n",
    "print('\\t-> Native Numpy Function:', np.std(data))"
   ]
  }
 ],
 "metadata": {
  "interpreter": {
   "hash": "9248718ffe6ce6938b217e69dbcc175ea21f4c6b28a317e96c05334edae734bb"
  },
  "kernelspec": {
   "display_name": "Python 3 (ipykernel)",
   "language": "python",
   "name": "python3"
  },
  "language_info": {
   "codemirror_mode": {
    "name": "ipython",
    "version": 3
   },
   "file_extension": ".py",
   "mimetype": "text/x-python",
   "name": "python",
   "nbconvert_exporter": "python",
   "pygments_lexer": "ipython3",
   "version": "3.10.13"
  }
 },
 "nbformat": 4,
 "nbformat_minor": 5
}
